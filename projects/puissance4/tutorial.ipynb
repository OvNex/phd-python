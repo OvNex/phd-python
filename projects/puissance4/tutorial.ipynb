{
  "cells": [
    {
      "cell_type": "markdown",
      "id": "75425fdc-870e-4502-96c4-e44a48155ed5",
      "metadata": {},
      "source": [
        "# Projet 1 - Puissance 4\n",
        "\n",
        "Dans ce projet nous allons implémenter un puissance 4 avec une interface\n",
        "graphique assez sommaire. Pour y arriver, nous allons utiliser les\n",
        "objets fondamentaux de Python."
      ]
    },
    {
      "cell_type": "code",
      "execution_count": null,
      "id": "05ed3cdc",
      "metadata": {},
      "outputs": [],
      "source": [
        "import copy\n",
        "\n",
        "import solutions"
      ]
    },
    {
      "cell_type": "markdown",
      "id": "12ce22e9-7dac-472c-8160-18f191739746",
      "metadata": {},
      "source": [
        "## Règles du jeu\n",
        "\n",
        "Le but du jeu de Puissance 4 est d’aligner une suite de 4 pions de même\n",
        "couleur sur une grille comptant 6 rangées et 7 colonnes. Chaque joueur\n",
        "dispose de 21 pions d’une couleur (par convention, en général jaune ou\n",
        "rouge). Tour à tour, les deux joueurs placent un pion dans la colonne de\n",
        "leur choix, le pion coulisse alors jusqu’à la position la plus basse\n",
        "possible dans la dite colonne à la suite de quoi c’est à l’adversaire de\n",
        "jouer. Le vainqueur est le joueur qui réalise le premier un alignement\n",
        "(horizontal, vertical ou diagonal) consécutif d’au moins quatre pions de\n",
        "sa couleur. Si, alors que toutes les cases de la grille de jeu sont\n",
        "remplies, aucun des deux joueurs n’a réalisé un tel alignement, la\n",
        "partie est déclarée nulle.\n",
        "\n",
        "Afin de simplifier le code de ce projet, on partira du principe que les\n",
        "alignements victorieux ne peuvent être qu’horizontaux ou verticaux. Les\n",
        "diagonales ne seront donc pas considérées (mais constituent un exercice\n",
        "intéressant pour aller plus loin !).\n",
        "\n",
        "## Plan du projet\n",
        "\n",
        "Nous allons décomposer la construction du jeu en différentes parties :\n",
        "\n",
        "-   initialisation de la grille\n",
        "\n",
        "-   représentation de la grille\n",
        "\n",
        "-   fonction de jeu\n",
        "\n",
        "-   détection d’une victoire (horizontale)\n",
        "\n",
        "-   détection d’une victoire (verticale)\n",
        "\n",
        "-   fin de partie\n",
        "\n",
        "## Initialisation de la grille\n",
        "\n",
        "L’objectif de cette partie est d’initialiser un objet Python qui\n",
        "représente une grille de puissance 4. Le choix que nous allons faire est\n",
        "de **représenter la grille comme une liste de listes**. Il s’agira d’une\n",
        "matrice 6x7 : on aura par conséquent une **liste de 6 élements** (qui\n",
        "représenteront les lignes de la grille), dont chacun des éléments sera\n",
        "une **liste contenant 7 éléments** (qui représenterons les pions).\n",
        "\n",
        "Chaque élément de la grille sera représenté par un *string*, qui pourra\n",
        "prendre trois valeurs :\n",
        "\n",
        "-   ’ ’ : s’il s’agit d’une case vide\n",
        "\n",
        "-   ‘R’ : s’il s’agit d’un pion rouge.\n",
        "\n",
        "-   ‘Y’ : s’il s’agit d’un pion jaune (yellow).\n",
        "\n",
        "Dans la fonction d’initialisation de la grille, chaque élément sera donc\n",
        "initialisé comme un ***string* contenant un espace**.\n",
        "\n",
        "**Attention** : Bien faire attention à ce que les lignes soient des\n",
        "objets indépendants, autrement dit que modifier l’une des listes\n",
        "n’affecte pas les autres.\n",
        "\n",
        "### Résultat attendu"
      ]
    },
    {
      "cell_type": "code",
      "execution_count": 71,
      "id": "fd47b838",
      "metadata": {},
      "outputs": [
        {
          "ename": "TypeError",
          "evalue": "solutions.initialize_grid() missing 1 required positional argument: 'self'",
          "output_type": "error",
          "traceback": [
            "\u001b[0;31m---------------------------------------------------------------------------\u001b[0m",
            "\u001b[0;31mTypeError\u001b[0m                                 Traceback (most recent call last)",
            "Cell \u001b[0;32mIn[71], line 1\u001b[0m\n\u001b[0;32m----> 1\u001b[0m grid_solution \u001b[38;5;241m=\u001b[39m \u001b[43msolutions\u001b[49m\u001b[38;5;241;43m.\u001b[39;49m\u001b[43minitialize_grid\u001b[49m\u001b[43m(\u001b[49m\u001b[43m)\u001b[49m\n\u001b[1;32m      2\u001b[0m grid_solution\n",
            "\u001b[0;31mTypeError\u001b[0m: solutions.initialize_grid() missing 1 required positional argument: 'self'"
          ]
        }
      ],
      "source": [
        "grid_solution = solutions.initialize_grid()\n",
        "grid_solution"
      ]
    },
    {
      "cell_type": "code",
      "execution_count": 60,
      "id": "da913469",
      "metadata": {},
      "outputs": [
        {
          "name": "stdout",
          "output_type": "stream",
          "text": [
            "Nombre de lignes : 6\n",
            "Nombre de colonnes : 7\n"
          ]
        }
      ],
      "source": [
        "print(f'Nombre de lignes : {len(grid_solution.grid)}')\n",
        "print(f'Nombre de colonnes : {len(grid_solution.grid[0])}')"
      ]
    },
    {
      "cell_type": "markdown",
      "id": "76fde4da-7928-4012-bd5d-b7eb4927be10",
      "metadata": {},
      "source": [
        "### A vous de jouer !"
      ]
    },
    {
      "cell_type": "code",
      "execution_count": 84,
      "id": "e53aee6b",
      "metadata": {},
      "outputs": [
        {
          "name": "stdout",
          "output_type": "stream",
          "text": [
            "Cette colonne est pleine\n",
            "Hello 0 0\n",
            "R        \n",
            "False True True True\n",
            "Hello 1 0\n",
            "R        \n",
            "False True True True\n",
            "Hello 2 0\n",
            "R        \n",
            "False True True True\n",
            "Hello 3 0\n",
            "R        \n",
            "False True True True\n",
            "Hello 4 0\n",
            "R R      \n",
            "True False True True\n",
            "Hello 4 1\n",
            "R        \n",
            "False True True True\n",
            "Hello 5 0\n",
            "R R R R  \n",
            "True True True False\n",
            "Hello 5 1\n",
            "R R R    \n",
            "True True False True\n",
            "Hello 5 2\n",
            "R R      \n",
            "True False True True\n",
            "| R |   |   |   |   |   |   |\n",
            "| R |   |   |   |   |   |   |\n",
            "| R |   |   |   |   |   |   |\n",
            "| R |   |   |   |   |   |   |\n",
            "| R | R |   |   |   |   |   |\n",
            "| R | R | R | R |   |   |   |\n"
          ]
        }
      ],
      "source": [
        "import numpy as np\n",
        "\n",
        "class Case :\n",
        "    def __init__(self, value=' ') :\n",
        "        self.value = value\n",
        "        self.empty = True\n",
        "\n",
        "class Colonne :\n",
        "    def __init__(self, nb_rows=6) :\n",
        "        self.grid_colonne = [Case() for i in range(0, nb_rows)]\n",
        "        self.empty_cases = False\n",
        "\n",
        "    def check_empty_case(self) :\n",
        "        self.empty_cases = False\n",
        "        for case in self.grid_colonne :\n",
        "            if case.empty :\n",
        "                self.empty_cases = True\n",
        "\n",
        "\n",
        "class Solutions:\n",
        "\n",
        "    def __init__(self, rows=6, cols=7):\n",
        "        self.cols = cols\n",
        "        self.rows = rows\n",
        "        self.grid = [Colonne(nb_rows=rows) for i in range(cols)]\n",
        "        self.victory = False\n",
        "        self.row_victory = False\n",
        "        self.col_victory = False\n",
        "        self.victory_value = None\n",
        "\n",
        "    def initialize_grid(self, init_value=' '):\n",
        "        for colonne in self.grid :\n",
        "            colonne.empty_cases = True\n",
        "            for case in colonne.grid_colonne :\n",
        "                case.value = ' '\n",
        "\n",
        "    def reconstruc_grid(self):\n",
        "        local_grid = np.empty(shape=(self.rows,self.cols), dtype=str)\n",
        "        for j, colonne in enumerate(self.grid) :\n",
        "            for i, case in enumerate(colonne.grid_colonne) :\n",
        "                local_grid[i,j] = case.value\n",
        "        return local_grid\n",
        "\n",
        "    def display_grid(self):\n",
        "        local_grid = self.reconstruc_grid()\n",
        "        for row in local_grid[:] :\n",
        "            print(\"| \" + \" | \".join(row) + \" |\")\n",
        "    \n",
        "    def make_move(self, disc_color, column_to_play) :\n",
        "        if column_to_play >= 0 and column_to_play <= len(self.grid[:])-1 :\n",
        "            local_colonne = self.grid[column_to_play]\n",
        "            local_colonne.check_empty_case()\n",
        "            if local_colonne.empty_cases :\n",
        "                for case in reversed(list(local_colonne.grid_colonne)) :\n",
        "                    if case.empty :\n",
        "                        case.empty = False\n",
        "                        case.value = disc_color\n",
        "                        break\n",
        "            else :\n",
        "                print (\"Cette colonne est pleine\")\n",
        "        else :\n",
        "            print(\"Cette colonne n'éxiste pas\")\n",
        "    \n",
        "    def check_row_victory(self) :\n",
        "        local_grid = self.reconstruc_grid()\n",
        "        for i in range(0,self.rows) :\n",
        "            rows = local_grid[i,:]\n",
        "            for j in range(0, self.cols-4) :\n",
        "                if rows[j] != \" \" :\n",
        "                    print(\"Hello\", i, j)\n",
        "                    print(rows[j], rows[j+1], rows[j+2], rows[j+3], rows[j+4])\n",
        "                    print(rows[j] == rows[j+1], rows[j+1] == rows[j+2], rows[j+2] == rows[j+3], rows[j+3] == rows[j+4])\n",
        "                    if rows[j] == rows[j+1] and rows[j+1] == rows[j+2] and rows[j+2] == rows[j+3] and rows[j+3] == rows[j+4] :\n",
        "                        self.row_victory = True\n",
        "                        self.victory_value = rows[j]\n",
        "                        print(\"VICTOIRE\")\n",
        "\n",
        "\n",
        "grid_solution = Solutions()\n",
        "grid_solution.initialize_grid()\n",
        "grid_solution.make_move('R', 0)\n",
        "grid_solution.make_move('R', 0)\n",
        "grid_solution.make_move('R', 0)\n",
        "grid_solution.make_move('R', 0)\n",
        "grid_solution.make_move('R', 0)\n",
        "grid_solution.make_move('R', 0)\n",
        "grid_solution.make_move('R', 0)\n",
        "grid_solution.make_move('R', 1)\n",
        "grid_solution.make_move('R', 1)\n",
        "grid_solution.make_move('R', 2)\n",
        "grid_solution.make_move('R', 3)\n",
        "grid_solution.check_row_victory()\n",
        "grid_solution.display_grid()\n"
      ]
    },
    {
      "cell_type": "code",
      "execution_count": 84,
      "id": "e730680f",
      "metadata": {},
      "outputs": [
        {
          "name": "stdout",
          "output_type": "stream",
          "text": [
            "[[ True  True  True  True  True  True  True]\n",
            " [ True  True  True  True  True  True  True]\n",
            " [ True  True  True  True  True  True  True]\n",
            " [ True  True  True  True  True  True  True]\n",
            " [ True  True  True  True  True  True  True]\n",
            " [ True  True  True  True  True  True  True]]\n"
          ]
        }
      ],
      "source": [
        "# Vérification du résultat\n",
        "grid = grid_solution.grid\n",
        "print(grid)"
      ]
    },
    {
      "cell_type": "code",
      "execution_count": 65,
      "id": "dab8703d",
      "metadata": {},
      "outputs": [
        {
          "name": "stdout",
          "output_type": "stream",
          "text": [
            "Nombre de lignes : 6\n",
            "Nombre de colonnes : 7\n"
          ]
        }
      ],
      "source": [
        "# Vérification du résultat\n",
        "print(f'Nombre de lignes : {len(grid)}')\n",
        "print(f'Nombre de colonnes : {len(grid[0])}')"
      ]
    },
    {
      "cell_type": "markdown",
      "id": "87c157e1-45f8-4e76-9ed5-2e863b4e2a22",
      "metadata": {},
      "source": [
        "## Représentation de la grille\n",
        "\n",
        "Notre grille est initialisée, mais son affichage est assez sommaire.\n",
        "L’idée de cette partie est d’offrir une représentation plus visuelle du\n",
        "jeu pendant une partie.\n",
        "\n",
        "Pour cela, nous allons créer **une fonction qui prend en entrée la\n",
        "grille précédemment initialisée et renvoie sa représentation** (via la\n",
        "fonction `print`). Les colonnes seront séparées par le caractère \\|\n",
        "(barre verticale).\n",
        "\n",
        "**Indice** : une solution possible fait intervenir deux notions que nous\n",
        "avons vues dans les TP précédents : la concaténation de *strings* et la\n",
        "fonction `join` qui “joint” les éléments d’une liste en les séparant par\n",
        "un certain caractère. Pour rappel, voici un exemple qui utilise ces deux\n",
        "concepts :"
      ]
    },
    {
      "cell_type": "code",
      "execution_count": null,
      "id": "1b904e8b",
      "metadata": {},
      "outputs": [],
      "source": [
        "l = [\"a\", \"b\", \"c\", \"d\", \"e\"]\n",
        "l_join = \"DEBUT \" + \", \".join(l) + \" FIN\"\n",
        "print(l_join)"
      ]
    },
    {
      "cell_type": "markdown",
      "id": "8ff5f44f-fbbe-4ab2-94f6-30253bd3a31e",
      "metadata": {},
      "source": [
        "### Résultat attendu"
      ]
    },
    {
      "cell_type": "code",
      "execution_count": 75,
      "id": "8260d16e",
      "metadata": {},
      "outputs": [
        {
          "name": "stdout",
          "output_type": "stream",
          "text": [
            "|   |   |   |   |   |   |   |\n",
            "|   |   |   |   |   |   |   |\n",
            "|   |   |   |   |   |   |   |\n",
            "|   |   |   |   |   |   |   |\n",
            "|   |   |   |   |   |   |   |\n",
            "|   |   |   |   |   |   |   |\n"
          ]
        }
      ],
      "source": [
        "grid_solution.display_grid()"
      ]
    },
    {
      "cell_type": "markdown",
      "id": "68f39146-9d5d-47ff-b3de-1e85ac7f6c53",
      "metadata": {},
      "source": [
        "### A vous de jouer !"
      ]
    },
    {
      "cell_type": "code",
      "execution_count": null,
      "id": "c194347f",
      "metadata": {},
      "outputs": [],
      "source": [
        "def display_grid():\n",
        "    # Votre code ici"
      ]
    },
    {
      "cell_type": "code",
      "execution_count": 86,
      "id": "1fe551d0",
      "metadata": {},
      "outputs": [
        {
          "ename": "NameError",
          "evalue": "name 'display_grid' is not defined",
          "output_type": "error",
          "traceback": [
            "\u001b[0;31m---------------------------------------------------------------------------\u001b[0m",
            "\u001b[0;31mNameError\u001b[0m                                 Traceback (most recent call last)",
            "Cell \u001b[0;32mIn[86], line 2\u001b[0m\n\u001b[1;32m      1\u001b[0m \u001b[38;5;66;03m# Vérification du résultat\u001b[39;00m\n\u001b[0;32m----> 2\u001b[0m \u001b[43mdisplay_grid\u001b[49m(grid)\n",
            "\u001b[0;31mNameError\u001b[0m: name 'display_grid' is not defined"
          ]
        }
      ],
      "source": [
        "# Vérification du résultat\n",
        "display_grid(grid)"
      ]
    },
    {
      "cell_type": "markdown",
      "id": "723d5a67-9b2a-4e06-9084-8b89bc9fbaa6",
      "metadata": {},
      "source": [
        "## Fonction de jeu\n",
        "\n",
        "Maintenant que nous pouvons représenter notre grille, intéressons-nous\n",
        "au coeur du puissance 4 : le jeu. L’objectif de cette partie est de\n",
        "**coder une fonction `make_move` qui va modifier la grille lorsqu’un\n",
        "joueur joue son tour**.\n",
        "\n",
        "Cette fonction prend en entrée :\n",
        "\n",
        "-   la grille\n",
        "\n",
        "-   la colonne choisie par le joueur\n",
        "\n",
        "-   la couleur du pion (‘R’ pour le pion rouge, et ‘Y’ pour le pion\n",
        "    jaune)\n",
        "\n",
        "et renvoie en sortie la grille actualisée suite au tour du joueur.\n",
        "\n",
        "Si la colonne choisie est déjà complète, renvoyer un message d’erreur.\n",
        "\n",
        "**Attention** : en Python, la numérotation commence à 0. La première\n",
        "colonne correspond donc à la colonne 0 du point de vue de l’indexation.\n",
        "\n",
        "Optionnel : Renvoyer un message d’erreur si un joueur essaie de jouer\n",
        "dans une colonne inexistante ou bien avec une couleur non autorisée.\n",
        "\n",
        "### Résultat attendu"
      ]
    },
    {
      "cell_type": "code",
      "execution_count": null,
      "id": "b8170fc2",
      "metadata": {},
      "outputs": [],
      "source": [
        "grid_solution = solutions.initialize_grid()  # Initialisation\n",
        "grid_solution = solutions.make_move(grid=grid_solution, column_to_play=2, disc_color=\"R\")  # 1er tour de jeu\n",
        "grid_solution = solutions.make_move(grid=grid_solution, column_to_play=5, disc_color=\"J\")  # 2ème tour de jeu\n",
        "grid_solution = solutions.make_move(grid=grid_solution, column_to_play=2, disc_color=\"R\")  # 3ème tour de jeu\n",
        "solutions.display_grid(grid_solution)"
      ]
    },
    {
      "cell_type": "markdown",
      "id": "67fb4a8f-c4f6-47d2-bc9a-b0e0aa01e19e",
      "metadata": {},
      "source": [
        "### A vous de jouer !"
      ]
    },
    {
      "cell_type": "code",
      "execution_count": null,
      "id": "000241a1",
      "metadata": {},
      "outputs": [],
      "source": [
        "def make_move(grid, column_to_play, disc_color):\n",
        "    new_grid = copy.deepcopy(grid)  # Evite la modification de la grille initiale\n",
        "    # Votre code ici\n",
        "    return new_grid"
      ]
    },
    {
      "cell_type": "code",
      "execution_count": null,
      "id": "cef38d4a",
      "metadata": {},
      "outputs": [],
      "source": [
        "# Vérification du résultat\n",
        "grid = initialize_grid()  # Initialisation\n",
        "grid = make_move(grid=grid, column_to_play=2, disc_color=\"R\")  # 1er tour de jeu\n",
        "grid = make_move(grid=grid, column_to_play=5, disc_color=\"J\")  # 2ème tour de jeu\n",
        "grid = make_move(grid=grid, column_to_play=2, disc_color=\"R\")  # 3ème tour de jeu\n",
        "display_grid(grid)"
      ]
    },
    {
      "cell_type": "markdown",
      "id": "6c12de3e-24a2-48f0-a2d3-a1c4442aae05",
      "metadata": {},
      "source": [
        "## Détection d’une victoire (horizontale)\n",
        "\n",
        "Maintenant qu’il est possible de jouer effectivement à notre puissance\n",
        "4, il faut pouvoir détecter une victoire pour mettre fin à la partie en\n",
        "cours. Pour se faire, on va simplifier le problème en le décomposant au\n",
        "maximum.\n",
        "\n",
        "Dans un premier temps, on s’intéresse à la détection d’une victoire\n",
        "horizontale. Pour cela, on va s’aider de deux fonctions :\n",
        "\n",
        "-   une fonction `check_row_victory` qui prend en entrée une ligne du\n",
        "    puissance 4 (i.e. une liste de taille 7) et retourne `True` si\n",
        "    jamais 4 pions consécutifs de même couleur se trouvent sur la ligne,\n",
        "    et `False` sinon\n",
        "\n",
        "-   une fonction `check_horizontal_victory` qui prend en entrée une\n",
        "    grille complète et retourne `True` si jamais une ligne de la grille\n",
        "    remplit la condition précédente, et `False` sinon\n",
        "\n",
        "### Résultat attendu"
      ]
    },
    {
      "cell_type": "code",
      "execution_count": null,
      "id": "4a913460",
      "metadata": {},
      "outputs": [],
      "source": [
        "# Détection d'une victoire (horizontale) sur une ligne\n",
        "ligne1 = [\" \", \"R\", \"R\", \"R\", \"J\", \"J\", \" \"]\n",
        "ligne2 = [\" \", \"R\", \"R\", \"R\", \"R\", \"J\", \" \"]\n",
        "\n",
        "print(solutions.check_row_victory(ligne1))  # Renvoie False\n",
        "print()  # Retour à la ligne\n",
        "print(solutions.check_row_victory(ligne2))  # Renvoie True"
      ]
    },
    {
      "cell_type": "code",
      "execution_count": null,
      "id": "037a72e5",
      "metadata": {},
      "outputs": [],
      "source": [
        "# Détection d'une victoire (horizontale) sur une grille\n",
        "grid_solution = solutions.initialize_grid()  # Initialisation\n",
        "print(solutions.check_horizontal_victory(grid_solution))  # Renvoie False\n",
        "print()  # Retour à la ligne\n",
        "\n",
        "grid_solution = solutions.make_move(grid=grid_solution, column_to_play=2, disc_color=\"R\")\n",
        "grid_solution = solutions.make_move(grid=grid_solution, column_to_play=3, disc_color=\"R\")\n",
        "grid_solution = solutions.make_move(grid=grid_solution, column_to_play=4, disc_color=\"R\")\n",
        "grid_solution = solutions.make_move(grid=grid_solution, column_to_play=5, disc_color=\"R\")\n",
        "solutions.display_grid(grid_solution)\n",
        "print()  # Retour à la ligne\n",
        "\n",
        "print(solutions.check_horizontal_victory(grid_solution))  # Renvoie True"
      ]
    },
    {
      "cell_type": "markdown",
      "id": "1845691c-daf1-4c8f-beb6-f4f3c5071337",
      "metadata": {},
      "source": [
        "### A vous de jouer !"
      ]
    },
    {
      "cell_type": "code",
      "execution_count": null,
      "id": "8a24e20d",
      "metadata": {},
      "outputs": [],
      "source": [
        "def check_row_victory(ligne):\n",
        "    # Votre code ici"
      ]
    },
    {
      "cell_type": "code",
      "execution_count": null,
      "id": "8b2b2b7b",
      "metadata": {},
      "outputs": [],
      "source": [
        "# Vérification du résultat\n",
        "row1 = [\" \", \"R\", \"R\", \"R\", \"J\", \"R\", \" \"]\n",
        "row2 = [\" \", \"R\", \"R\", \"R\", \"R\", \"J\", \" \"]\n",
        "\n",
        "print(check_row_victory(row1))  # Renvoie False\n",
        "print(check_row_victory(row2))  # Renvoie True"
      ]
    },
    {
      "cell_type": "code",
      "execution_count": null,
      "id": "2a6dd3f8",
      "metadata": {},
      "outputs": [],
      "source": [
        "def check_horizontal_victory(grid):\n",
        "    # Votre code ici"
      ]
    },
    {
      "cell_type": "code",
      "execution_count": null,
      "id": "4b8761b2",
      "metadata": {},
      "outputs": [],
      "source": [
        "# Vérification du résultat\n",
        "grid = initialize_grid()  # Initialisation\n",
        "print(check_horizontal_victory(grid))  # Renvoie False\n",
        "\n",
        "grid = make_move(grid=grid, column_to_play=2, disc_color=\"R\")\n",
        "grid = make_move(grid=grid, column_to_play=3, disc_color=\"R\")\n",
        "grid = make_move(grid=grid, column_to_play=4, disc_color=\"R\")\n",
        "grid = make_move(grid=grid, column_to_play=5, disc_color=\"R\")\n",
        "display_grid(grid)\n",
        "print(check_horizontal_victory(grid))  # Renvoie True"
      ]
    },
    {
      "cell_type": "markdown",
      "id": "a7ae3f37-269b-48e3-a936-bc342e8076c1",
      "metadata": {},
      "source": [
        "## Détection d’une victoire (verticale)\n",
        "\n",
        "A présent, on s’intéresse à la détection d’une victoire verticale. Par\n",
        "rapport à la situation précédente, la difficulté est que l’on ne peut\n",
        "pas directement boucler sur les colonnes. On va donc construire une\n",
        "fonction `check_vertical_victory` qui, pour chaque colonne :\n",
        "\n",
        "-   récupère les éléments de la colonne dans une liste\n",
        "\n",
        "-   applique à cette liste la fonction `check_row_victory` pour vérifier\n",
        "    la présence de 4 pions consécutifs de même couleur dans la colonne\n",
        "    considérée\n",
        "\n",
        "### Résultat attendu"
      ]
    },
    {
      "cell_type": "code",
      "execution_count": null,
      "id": "55615e61",
      "metadata": {},
      "outputs": [],
      "source": [
        "# Détection d'une victoire (verticale) sur une grille\n",
        "grid_solution = solutions.initialize_grid()  # Initialisation\n",
        "print(solutions.check_vertical_victory(grid_solution))  # Renvoie False\n",
        "print()  # Retour à la ligne\n",
        "\n",
        "grid_solution = solutions.make_move(grid=grid_solution, column_to_play=2, disc_color=\"J\")\n",
        "grid_solution = solutions.make_move(grid=grid_solution, column_to_play=2, disc_color=\"J\")\n",
        "grid_solution = solutions.make_move(grid=grid_solution, column_to_play=2, disc_color=\"J\")\n",
        "grid_solution = solutions.make_move(grid=grid_solution, column_to_play=2, disc_color=\"J\")\n",
        "solutions.display_grid(grid_solution)\n",
        "print()  # Retour à la ligne\n",
        "\n",
        "print(solutions.check_vertical_victory(grid_solution))  # Renvoie True"
      ]
    },
    {
      "cell_type": "markdown",
      "id": "d4f23587-6648-4711-8481-38599dade2bf",
      "metadata": {},
      "source": [
        "### A vous de jouer !"
      ]
    },
    {
      "cell_type": "code",
      "execution_count": null,
      "id": "dd8010fc",
      "metadata": {},
      "outputs": [],
      "source": [
        "def check_vertical_victory(grid):\n",
        "    # Votre code ici"
      ]
    },
    {
      "cell_type": "code",
      "execution_count": null,
      "id": "81fa97a7",
      "metadata": {},
      "outputs": [],
      "source": [
        "# Vérification du résultat\n",
        "grid = initialize_grid()  # Initialisation\n",
        "print(check_vertical_victory(grid))  # Renvoie False\n",
        "print()  # Retour à la ligne\n",
        "\n",
        "grid = make_move(grid=grid, column_to_play=2, disc_color=\"J\")\n",
        "grid = make_move(grid=grid, column_to_play=2, disc_color=\"J\")\n",
        "grid = make_move(grid=grid, column_to_play=2, disc_color=\"J\")\n",
        "grid = make_move(grid=grid, column_to_play=2, disc_color=\"J\")\n",
        "display_grid(grid)\n",
        "print()  # Retour à la ligne\n",
        "\n",
        "print(check_vertical_victory(grid))  # Renvoie True"
      ]
    },
    {
      "cell_type": "markdown",
      "id": "7ed7b703-6929-4715-94ac-33df58ddb313",
      "metadata": {},
      "source": [
        "## Fin de partie\n",
        "\n",
        "Dans notre version simplifiée du puissance 4, on peut à présent déclarer\n",
        "la **fin de partie : dès lors qu’une victoire horizontale ou verticale\n",
        "est détectée**.\n",
        "\n",
        "On va donc pour commencer créer une fonction `victoire` qui prend la\n",
        "grille en entrée et renvoie `True` si une victoire horizontale **ou**\n",
        "verticale est détectée, et `False` sinon.\n",
        "\n",
        "Dans l’idéal, on voudrait ne pas avoir à tester manuellement après\n",
        "chaque coup si la partie est terminée afin de limiter la duplication de\n",
        "code. On va donc ensuite créer une fonction\n",
        "`make_move_and_check_victory` qui :\n",
        "\n",
        "-   prend en entrée les mêmes *inputs* que la fonction `tour`\n",
        "\n",
        "-   va appeler la fonction `tour` pour réaliser le tour de jeu\n",
        "\n",
        "-   va tester après le tour de jeu si une victoire est détectée via la\n",
        "    fonction `victoire`. Si une victoire est détectée, la fonction\n",
        "    imprime “FIN DE PARTIE”.\n",
        "\n",
        "### Résultat attendu"
      ]
    },
    {
      "cell_type": "code",
      "execution_count": null,
      "id": "9607f667",
      "metadata": {},
      "outputs": [],
      "source": [
        "grid_solution = solutions.initialize_grid()  # Initialisation\n",
        "print(\"Tour 1\")\n",
        "grid_solution = solutions.make_move_and_check_victory(grid=grid_solution, column_to_play=2, disc_color=\"J\")\n",
        "print(\"Tour 2\")\n",
        "grid_solution = solutions.make_move_and_check_victory(grid=grid_solution, column_to_play=2, disc_color=\"J\")\n",
        "print(\"Tour 3\")\n",
        "grid_solution = solutions.make_move_and_check_victory(grid=grid_solution, column_to_play=2, disc_color=\"J\")\n",
        "print(\"Tour 4\")\n",
        "grid_solution = solutions.make_move_and_check_victory(grid=grid_solution, column_to_play=2, disc_color=\"J\")"
      ]
    },
    {
      "cell_type": "markdown",
      "id": "930c1032-ecf3-49bd-adce-1cd4284b0a3f",
      "metadata": {},
      "source": [
        "### A vous de jouer !"
      ]
    },
    {
      "cell_type": "code",
      "execution_count": null,
      "id": "1023101b",
      "metadata": {},
      "outputs": [],
      "source": [
        "def check_victory(grid):\n",
        "    # Votre code ici"
      ]
    },
    {
      "cell_type": "code",
      "execution_count": null,
      "id": "03f2ad43",
      "metadata": {},
      "outputs": [],
      "source": [
        "def make_move_and_check_victory(grille, column_to_play, disc_color):\n",
        "    grid = copy.deepcopy(grid)\n",
        "    # Votre code ici\n",
        "    return grid"
      ]
    },
    {
      "cell_type": "code",
      "execution_count": null,
      "id": "aaebc553",
      "metadata": {},
      "outputs": [],
      "source": [
        "# Vérification du résultat\n",
        "grid = initialize_grid()  # Initialisation\n",
        "print(\"Tour 1\")\n",
        "grid = make_move_and_check_victory(grid=grid, column_to_play=2, disc_color=\"J\")\n",
        "print(\"Tour 2\")\n",
        "grid = make_move_and_check_victory(grid=grid, column_to_play=2, disc_color=\"J\")\n",
        "print(\"Tour 3\")\n",
        "grid = make_move_and_check_victory(grid=grid, column_to_play=2, disc_color=\"J\")\n",
        "print(\"Tour 4\")\n",
        "grid = make_move_and_check_victory(grid=grid, column_to_play=2, disc_color=\"J\")"
      ]
    }
  ],
  "metadata": {
    "kernelspec": {
      "display_name": "Python 3",
      "language": "python",
      "name": "python3"
    },
    "language_info": {
      "codemirror_mode": {
        "name": "ipython",
        "version": 3
      },
      "file_extension": ".py",
      "mimetype": "text/x-python",
      "name": "python",
      "nbconvert_exporter": "python",
      "pygments_lexer": "ipython3",
      "version": "3.12.1"
    }
  },
  "nbformat": 4,
  "nbformat_minor": 5
}
